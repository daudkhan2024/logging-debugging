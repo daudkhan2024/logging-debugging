{
 "cells": [
  {
   "cell_type": "code",
   "execution_count": 1,
   "id": "7a45ddbd",
   "metadata": {},
   "outputs": [],
   "source": [
    "import logging as lg"
   ]
  },
  {
   "cell_type": "code",
   "execution_count": 2,
   "id": "18853325",
   "metadata": {},
   "outputs": [],
   "source": [
    "import os"
   ]
  },
  {
   "cell_type": "code",
   "execution_count": 3,
   "id": "fe5eb94a",
   "metadata": {},
   "outputs": [],
   "source": [
    "os.mkdir(\"logging\")"
   ]
  },
  {
   "cell_type": "code",
   "execution_count": 4,
   "id": "14abc26f",
   "metadata": {},
   "outputs": [],
   "source": [
    "os.chdir(os.getcwd()+ \"/\"+\"logging\")"
   ]
  },
  {
   "cell_type": "code",
   "execution_count": 5,
   "id": "2e29d2f7",
   "metadata": {},
   "outputs": [
    {
     "data": {
      "text/plain": [
       "'/Users/daudkhan/logging'"
      ]
     },
     "execution_count": 5,
     "metadata": {},
     "output_type": "execute_result"
    }
   ],
   "source": [
    "pwd"
   ]
  },
  {
   "cell_type": "code",
   "execution_count": 6,
   "id": "c894c025",
   "metadata": {},
   "outputs": [],
   "source": [
    "lg.basicConfig(filename = 'test.log',level = lg.ERROR, format = '%(asctime)s %(message)s')\n",
    "#file name and what kind of log we want to store"
   ]
  },
  {
   "cell_type": "code",
   "execution_count": 7,
   "id": "29f14d70",
   "metadata": {},
   "outputs": [
    {
     "data": {
      "text/plain": [
       "'/Users/daudkhan/logging'"
      ]
     },
     "execution_count": 7,
     "metadata": {},
     "output_type": "execute_result"
    }
   ],
   "source": [
    "pwd"
   ]
  },
  {
   "cell_type": "code",
   "execution_count": 8,
   "id": "21d6466c",
   "metadata": {},
   "outputs": [],
   "source": [
    "lg.info(\"i am going to start my program\")"
   ]
  },
  {
   "cell_type": "code",
   "execution_count": 9,
   "id": "a5835b5a",
   "metadata": {},
   "outputs": [],
   "source": [
    "lg.warning(\"this is a first warning of my program to modify\")"
   ]
  },
  {
   "cell_type": "code",
   "execution_count": 10,
   "id": "177c5efb",
   "metadata": {},
   "outputs": [],
   "source": [
    "lg.error(\"there is an error\")"
   ]
  },
  {
   "cell_type": "code",
   "execution_count": 11,
   "id": "0cccbba5",
   "metadata": {},
   "outputs": [],
   "source": [
    "def test(a,b):\n",
    "    try :\n",
    "        lg.info(str(a)+str(b))\n",
    "        div = a/b\n",
    "        return div\n",
    "    except Exception as e :\n",
    "        print(\"you can check your log if code fail\")\n",
    "        lg.error(\"error has occured\")\n",
    "        lg.exception(str(e))"
   ]
  },
  {
   "cell_type": "code",
   "execution_count": 12,
   "id": "ff31dc35",
   "metadata": {},
   "outputs": [
    {
     "data": {
      "text/plain": [
       "1.3333333333333333"
      ]
     },
     "execution_count": 12,
     "metadata": {},
     "output_type": "execute_result"
    }
   ],
   "source": [
    "test(4,3)"
   ]
  }
 ],
 "metadata": {
  "kernelspec": {
   "display_name": "Python 3 (ipykernel)",
   "language": "python",
   "name": "python3"
  },
  "language_info": {
   "codemirror_mode": {
    "name": "ipython",
    "version": 3
   },
   "file_extension": ".py",
   "mimetype": "text/x-python",
   "name": "python",
   "nbconvert_exporter": "python",
   "pygments_lexer": "ipython3",
   "version": "3.9.12"
  }
 },
 "nbformat": 4,
 "nbformat_minor": 5
}
